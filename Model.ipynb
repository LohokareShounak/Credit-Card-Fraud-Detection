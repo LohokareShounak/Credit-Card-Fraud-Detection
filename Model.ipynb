{
 "cells": [
  {
   "cell_type": "code",
   "execution_count": 58,
   "id": "d4af2012",
   "metadata": {},
   "outputs": [],
   "source": [
    "import pandas as pd\n",
    "import matplotlib.pyplot as plt\n",
    "import seaborn as sns\n",
    "import numpy as np\n",
    "from math import radians, cos, sin, asin, sqrt"
   ]
  },
  {
   "cell_type": "markdown",
   "id": "5a1b3e5b",
   "metadata": {},
   "source": [
    "# Data Loading and Preprocessing"
   ]
  },
  {
   "cell_type": "code",
   "execution_count": 59,
   "id": "95e8e740",
   "metadata": {},
   "outputs": [],
   "source": [
    "data_test = pd.read_csv('Data/fraudTest.csv')\n",
    "data_train = pd.read_csv('Data/fraudTrain.csv')\n",
    "\n",
    "data = pd.concat([data_train,data_test])\n",
    "data['trans_date_trans_time'] = pd.to_datetime(data['trans_date_trans_time'])\n",
    "data['hour'] = data['trans_date_trans_time'].dt.hour\n",
    "\n",
    "data['day_of_week'] = data['trans_date_trans_time'].dt.day_name()\n",
    "\n",
    "data['year_month'] = data['trans_date_trans_time'].dt.to_period('M')\n",
    "\n",
    "data['dob'] = pd.to_datetime(data['dob'])\n",
    "data['age'] = np.round((data['trans_date_trans_time'] - data['dob'])/np.timedelta64(1,'Y'))"
   ]
  },
  {
   "cell_type": "code",
   "execution_count": 123,
   "id": "e7e0be1c",
   "metadata": {},
   "outputs": [
    {
     "data": {
      "text/plain": [
       "0     0\n",
       "1     0\n",
       "2     0\n",
       "3     0\n",
       "4     0\n",
       "5     0\n",
       "6     0\n",
       "7     0\n",
       "8     0\n",
       "9     0\n",
       "10    0\n",
       "11    0\n",
       "12    0\n",
       "13    0\n",
       "14    0\n",
       "15    0\n",
       "16    0\n",
       "17    0\n",
       "18    0\n",
       "19    0\n",
       "Name: is_fraud, dtype: int64"
      ]
     },
     "execution_count": 123,
     "metadata": {},
     "output_type": "execute_result"
    }
   ],
   "source": [
    "data_test[0:20]['is_fraud']"
   ]
  },
  {
   "cell_type": "code",
   "execution_count": 60,
   "id": "99b4a898",
   "metadata": {},
   "outputs": [
    {
     "data": {
      "text/plain": [
       "14"
      ]
     },
     "execution_count": 60,
     "metadata": {},
     "output_type": "execute_result"
    }
   ],
   "source": [
    "len(data_train.category.unique())"
   ]
  },
  {
   "cell_type": "markdown",
   "id": "a0afb22e",
   "metadata": {},
   "source": [
    "Calculating Distance between merchant and customer"
   ]
  },
  {
   "cell_type": "code",
   "execution_count": 61,
   "id": "21dbd5d4",
   "metadata": {},
   "outputs": [],
   "source": [
    "def distance(lat1, lat2, lon1, lon2):\n",
    "     \n",
    "    lon1 = np.radians(lon1)\n",
    "    lon2 = np.radians(lon2)\n",
    "    lat1 = np.radians(lat1)\n",
    "    lat2 = np.radians(lat2)\n",
    "      \n",
    "    dlon = lon2 - lon1\n",
    "    dlat = lat2 - lat1\n",
    "    a = sin(dlat / 2)**2 + cos(lat1) * cos(lat2) * sin(dlon / 2)**2\n",
    " \n",
    "    c = 2 * asin(sqrt(a))\n",
    "    \n",
    "    # Radius of earth in kilometers\n",
    "    r = 6371\n",
    "      \n",
    "    # calculate the result\n",
    "    return(c * r)"
   ]
  },
  {
   "cell_type": "code",
   "execution_count": 62,
   "id": "6b52a02b",
   "metadata": {},
   "outputs": [],
   "source": [
    "data['dist'] = data.apply(lambda x: distance(x.merch_lat, x.lat, x.merch_long, x.long), axis=1)"
   ]
  },
  {
   "cell_type": "markdown",
   "id": "72481c8b",
   "metadata": {},
   "source": [
    "Calculating the average of fraud happened with one customer"
   ]
  },
  {
   "cell_type": "code",
   "execution_count": 63,
   "id": "6d23fe2b",
   "metadata": {},
   "outputs": [],
   "source": [
    "Fraud_avg = {}\n",
    "for i in data['cc_num'].unique():\n",
    "    Fraud_avg[i] = len(data[(data['cc_num'] == i) & data['is_fraud'] == 1]) / len(data[data[\"cc_num\"] == i])"
   ]
  },
  {
   "cell_type": "code",
   "execution_count": 64,
   "id": "8115c542",
   "metadata": {},
   "outputs": [],
   "source": [
    "data['Fraud_avg'] = data['cc_num'].map(Fraud_avg)"
   ]
  },
  {
   "cell_type": "markdown",
   "id": "355287d2",
   "metadata": {},
   "source": [
    "Calculating average amt of fraud and non-fraud cases for specific person"
   ]
  },
  {
   "cell_type": "code",
   "execution_count": 65,
   "id": "cec5a7e6",
   "metadata": {},
   "outputs": [],
   "source": [
    "Amt_Avg_Fraud = {}\n",
    "Amt_Avg_Legit = {}\n",
    "\n",
    "for i in data['cc_num'].unique():\n",
    "    Amt_Avg_Fraud[i] = data[(data['cc_num'] == i) & (data['is_fraud'] == 1)]['amt'].mean()\n",
    "    Amt_Avg_Legit[i] = data[(data['cc_num'] == i) & (data['is_fraud'] == 0)]['amt'].mean()"
   ]
  },
  {
   "cell_type": "code",
   "execution_count": 66,
   "id": "47aba3ef",
   "metadata": {},
   "outputs": [],
   "source": [
    "data['Amt_Avg_Fraud'] = data['cc_num'].map(Amt_Avg_Fraud)\n",
    "data['Amt_Avg_Legit'] = data['cc_num'].map(Amt_Avg_Legit)"
   ]
  },
  {
   "cell_type": "code",
   "execution_count": 67,
   "id": "a5de6b93",
   "metadata": {},
   "outputs": [],
   "source": [
    "data = data.replace(np.NaN,0)"
   ]
  },
  {
   "cell_type": "markdown",
   "id": "04e56b12",
   "metadata": {},
   "source": [
    "Normalising the amount"
   ]
  },
  {
   "cell_type": "code",
   "execution_count": 68,
   "id": "8597afa3",
   "metadata": {},
   "outputs": [],
   "source": [
    "data['amt_normalised'] = data['amt'] / max(data['amt'])"
   ]
  },
  {
   "cell_type": "markdown",
   "id": "705999a9",
   "metadata": {},
   "source": [
    "Taking care of categorical variable by label encoding and normalising"
   ]
  },
  {
   "cell_type": "code",
   "execution_count": 69,
   "id": "f6971000",
   "metadata": {},
   "outputs": [],
   "source": [
    "cities = {}\n",
    "states = {}\n",
    "\n",
    "i = 0\n",
    "for city in data.city.unique():\n",
    "    cities[city] = i\n",
    "    i += 1\n",
    "i = 0\n",
    "for state in data.state.unique():\n",
    "    states[state] = i\n",
    "    i += 1\n",
    "data['city'] = data.city.map(cities)\n",
    "data['state'] = data.state.map(states)"
   ]
  },
  {
   "cell_type": "code",
   "execution_count": 70,
   "id": "502c4b25",
   "metadata": {
    "scrolled": false
   },
   "outputs": [],
   "source": [
    "data['city'] = data['city'] / len(cities)\n",
    "data['state'] = data['state'] / len(states)"
   ]
  },
  {
   "cell_type": "code",
   "execution_count": 71,
   "id": "b111f612",
   "metadata": {},
   "outputs": [],
   "source": [
    "i = 0\n",
    "merchants = {}\n",
    "for merchant in data.merchant.unique():\n",
    "    merchants[merchant] = i\n",
    "    i += 1\n",
    "data.merchant = data.merchant.map(merchants) / len(merchants)"
   ]
  },
  {
   "cell_type": "code",
   "execution_count": 72,
   "id": "9142a5d6",
   "metadata": {
    "scrolled": true
   },
   "outputs": [],
   "source": [
    "i = 0 \n",
    "days = {}\n",
    "for day in data.day_of_week.unique():\n",
    "    days[day] = i\n",
    "    i += 1\n",
    "data.day_of_week = data.day_of_week.map(days)"
   ]
  },
  {
   "cell_type": "code",
   "execution_count": 73,
   "id": "12b29910",
   "metadata": {
    "scrolled": true
   },
   "outputs": [],
   "source": [
    "i = 0\n",
    "jobs = {}\n",
    "for job in data.job.unique():\n",
    "    jobs[job] = i\n",
    "    i += 1\n",
    "data.job = data.job.map(jobs)"
   ]
  },
  {
   "cell_type": "code",
   "execution_count": 53,
   "id": "e919f14c",
   "metadata": {},
   "outputs": [
    {
     "data": {
      "text/plain": [
       "{'misc_net': 0,\n",
       " 'grocery_pos': 1,\n",
       " 'entertainment': 2,\n",
       " 'gas_transport': 3,\n",
       " 'misc_pos': 4,\n",
       " 'grocery_net': 5,\n",
       " 'shopping_net': 6,\n",
       " 'shopping_pos': 7,\n",
       " 'food_dining': 8,\n",
       " 'personal_care': 9,\n",
       " 'health_fitness': 10,\n",
       " 'travel': 11,\n",
       " 'kids_pets': 12,\n",
       " 'home': 13}"
      ]
     },
     "execution_count": 53,
     "metadata": {},
     "output_type": "execute_result"
    }
   ],
   "source": [
    "Category = {}\n",
    "for i, cate in enumerate(data_copy.category.unique()):\n",
    "    Category[cate] = i\n",
    "Category"
   ]
  },
  {
   "cell_type": "code",
   "execution_count": 76,
   "id": "c524dd48",
   "metadata": {
    "scrolled": true
   },
   "outputs": [],
   "source": [
    "data['category'] = data.category.map(Category)"
   ]
  },
  {
   "cell_type": "code",
   "execution_count": 77,
   "id": "b19e743c",
   "metadata": {},
   "outputs": [],
   "source": [
    "data['year_month'] = data['year_month'].astype('str')"
   ]
  },
  {
   "cell_type": "code",
   "execution_count": 78,
   "id": "8d8db7e2",
   "metadata": {},
   "outputs": [],
   "source": [
    "data_train_col = ['hour','state','merchant','age','day_of_week','job','category','amt_normalised','dist','Fraud_avg','Amt_Avg_Legit','Amt_Avg_Fraud','is_fraud']"
   ]
  },
  {
   "cell_type": "code",
   "execution_count": 86,
   "id": "e979f1bc",
   "metadata": {},
   "outputs": [],
   "source": [
    "data = data[data_train_col]"
   ]
  },
  {
   "cell_type": "markdown",
   "id": "755d96bb",
   "metadata": {},
   "source": [
    "Separting the train and test data"
   ]
  },
  {
   "cell_type": "code",
   "execution_count": 87,
   "id": "a173c482",
   "metadata": {},
   "outputs": [],
   "source": [
    "train = data[:1296675]\n",
    "test = data[1296675:]"
   ]
  },
  {
   "cell_type": "code",
   "execution_count": 88,
   "id": "6652bfcb",
   "metadata": {},
   "outputs": [],
   "source": [
    "train_x = train.drop('is_fraud',axis = 1)\n",
    "train_y = train['is_fraud']\n",
    "\n",
    "test_x = test.drop('is_fraud',axis = 1)\n",
    "test_y = test['is_fraud']"
   ]
  },
  {
   "cell_type": "code",
   "execution_count": 89,
   "id": "1bffad5d",
   "metadata": {},
   "outputs": [
    {
     "data": {
      "text/html": [
       "<div>\n",
       "<style scoped>\n",
       "    .dataframe tbody tr th:only-of-type {\n",
       "        vertical-align: middle;\n",
       "    }\n",
       "\n",
       "    .dataframe tbody tr th {\n",
       "        vertical-align: top;\n",
       "    }\n",
       "\n",
       "    .dataframe thead th {\n",
       "        text-align: right;\n",
       "    }\n",
       "</style>\n",
       "<table border=\"1\" class=\"dataframe\">\n",
       "  <thead>\n",
       "    <tr style=\"text-align: right;\">\n",
       "      <th></th>\n",
       "      <th>hour</th>\n",
       "      <th>state</th>\n",
       "      <th>merchant</th>\n",
       "      <th>age</th>\n",
       "      <th>day_of_week</th>\n",
       "      <th>job</th>\n",
       "      <th>category</th>\n",
       "      <th>amt_normalised</th>\n",
       "      <th>dist</th>\n",
       "      <th>Fraud_avg</th>\n",
       "      <th>Amt_Avg_Legit</th>\n",
       "      <th>Amt_Avg_Fraud</th>\n",
       "    </tr>\n",
       "  </thead>\n",
       "  <tbody>\n",
       "    <tr>\n",
       "      <th>0</th>\n",
       "      <td>0</td>\n",
       "      <td>0.000000</td>\n",
       "      <td>0.000000</td>\n",
       "      <td>31.0</td>\n",
       "      <td>0</td>\n",
       "      <td>0</td>\n",
       "      <td>0</td>\n",
       "      <td>0.000172</td>\n",
       "      <td>78.597568</td>\n",
       "      <td>0.003758</td>\n",
       "      <td>88.203104</td>\n",
       "      <td>409.012727</td>\n",
       "    </tr>\n",
       "    <tr>\n",
       "      <th>1</th>\n",
       "      <td>0</td>\n",
       "      <td>0.019608</td>\n",
       "      <td>0.001443</td>\n",
       "      <td>41.0</td>\n",
       "      <td>0</td>\n",
       "      <td>1</td>\n",
       "      <td>1</td>\n",
       "      <td>0.003704</td>\n",
       "      <td>30.212176</td>\n",
       "      <td>0.001605</td>\n",
       "      <td>55.602852</td>\n",
       "      <td>351.758571</td>\n",
       "    </tr>\n",
       "    <tr>\n",
       "      <th>2</th>\n",
       "      <td>0</td>\n",
       "      <td>0.039216</td>\n",
       "      <td>0.002886</td>\n",
       "      <td>57.0</td>\n",
       "      <td>0</td>\n",
       "      <td>2</td>\n",
       "      <td>2</td>\n",
       "      <td>0.007603</td>\n",
       "      <td>108.206083</td>\n",
       "      <td>0.010884</td>\n",
       "      <td>65.620633</td>\n",
       "      <td>461.017500</td>\n",
       "    </tr>\n",
       "    <tr>\n",
       "      <th>3</th>\n",
       "      <td>0</td>\n",
       "      <td>0.058824</td>\n",
       "      <td>0.004329</td>\n",
       "      <td>52.0</td>\n",
       "      <td>0</td>\n",
       "      <td>3</td>\n",
       "      <td>3</td>\n",
       "      <td>0.001554</td>\n",
       "      <td>95.673231</td>\n",
       "      <td>0.020188</td>\n",
       "      <td>70.613365</td>\n",
       "      <td>540.024667</td>\n",
       "    </tr>\n",
       "    <tr>\n",
       "      <th>4</th>\n",
       "      <td>0</td>\n",
       "      <td>0.078431</td>\n",
       "      <td>0.005772</td>\n",
       "      <td>33.0</td>\n",
       "      <td>0</td>\n",
       "      <td>4</td>\n",
       "      <td>4</td>\n",
       "      <td>0.001449</td>\n",
       "      <td>77.556744</td>\n",
       "      <td>0.004449</td>\n",
       "      <td>93.270633</td>\n",
       "      <td>558.658462</td>\n",
       "    </tr>\n",
       "    <tr>\n",
       "      <th>...</th>\n",
       "      <td>...</td>\n",
       "      <td>...</td>\n",
       "      <td>...</td>\n",
       "      <td>...</td>\n",
       "      <td>...</td>\n",
       "      <td>...</td>\n",
       "      <td>...</td>\n",
       "      <td>...</td>\n",
       "      <td>...</td>\n",
       "      <td>...</td>\n",
       "      <td>...</td>\n",
       "      <td>...</td>\n",
       "    </tr>\n",
       "    <tr>\n",
       "      <th>1296670</th>\n",
       "      <td>12</td>\n",
       "      <td>0.568627</td>\n",
       "      <td>0.274170</td>\n",
       "      <td>59.0</td>\n",
       "      <td>5</td>\n",
       "      <td>331</td>\n",
       "      <td>2</td>\n",
       "      <td>0.000537</td>\n",
       "      <td>119.752136</td>\n",
       "      <td>0.004098</td>\n",
       "      <td>59.491651</td>\n",
       "      <td>574.250000</td>\n",
       "    </tr>\n",
       "    <tr>\n",
       "      <th>1296671</th>\n",
       "      <td>12</td>\n",
       "      <td>0.627451</td>\n",
       "      <td>0.930736</td>\n",
       "      <td>41.0</td>\n",
       "      <td>5</td>\n",
       "      <td>250</td>\n",
       "      <td>8</td>\n",
       "      <td>0.001786</td>\n",
       "      <td>75.104085</td>\n",
       "      <td>0.010840</td>\n",
       "      <td>92.068986</td>\n",
       "      <td>647.965000</td>\n",
       "    </tr>\n",
       "    <tr>\n",
       "      <th>1296672</th>\n",
       "      <td>12</td>\n",
       "      <td>0.235294</td>\n",
       "      <td>0.584416</td>\n",
       "      <td>53.0</td>\n",
       "      <td>5</td>\n",
       "      <td>14</td>\n",
       "      <td>8</td>\n",
       "      <td>0.003659</td>\n",
       "      <td>99.047734</td>\n",
       "      <td>0.003765</td>\n",
       "      <td>61.814473</td>\n",
       "      <td>662.728182</td>\n",
       "    </tr>\n",
       "    <tr>\n",
       "      <th>1296673</th>\n",
       "      <td>12</td>\n",
       "      <td>0.882353</td>\n",
       "      <td>0.740260</td>\n",
       "      <td>40.0</td>\n",
       "      <td>5</td>\n",
       "      <td>194</td>\n",
       "      <td>8</td>\n",
       "      <td>0.002587</td>\n",
       "      <td>84.627652</td>\n",
       "      <td>0.002743</td>\n",
       "      <td>92.095299</td>\n",
       "      <td>623.337500</td>\n",
       "    </tr>\n",
       "    <tr>\n",
       "      <th>1296674</th>\n",
       "      <td>12</td>\n",
       "      <td>0.058824</td>\n",
       "      <td>0.163059</td>\n",
       "      <td>25.0</td>\n",
       "      <td>5</td>\n",
       "      <td>106</td>\n",
       "      <td>8</td>\n",
       "      <td>0.000149</td>\n",
       "      <td>83.853655</td>\n",
       "      <td>0.003643</td>\n",
       "      <td>67.896686</td>\n",
       "      <td>478.523750</td>\n",
       "    </tr>\n",
       "  </tbody>\n",
       "</table>\n",
       "<p>1296675 rows × 12 columns</p>\n",
       "</div>"
      ],
      "text/plain": [
       "         hour     state  merchant   age  day_of_week  job  category  \\\n",
       "0           0  0.000000  0.000000  31.0            0    0         0   \n",
       "1           0  0.019608  0.001443  41.0            0    1         1   \n",
       "2           0  0.039216  0.002886  57.0            0    2         2   \n",
       "3           0  0.058824  0.004329  52.0            0    3         3   \n",
       "4           0  0.078431  0.005772  33.0            0    4         4   \n",
       "...       ...       ...       ...   ...          ...  ...       ...   \n",
       "1296670    12  0.568627  0.274170  59.0            5  331         2   \n",
       "1296671    12  0.627451  0.930736  41.0            5  250         8   \n",
       "1296672    12  0.235294  0.584416  53.0            5   14         8   \n",
       "1296673    12  0.882353  0.740260  40.0            5  194         8   \n",
       "1296674    12  0.058824  0.163059  25.0            5  106         8   \n",
       "\n",
       "         amt_normalised        dist  Fraud_avg  Amt_Avg_Legit  Amt_Avg_Fraud  \n",
       "0              0.000172   78.597568   0.003758      88.203104     409.012727  \n",
       "1              0.003704   30.212176   0.001605      55.602852     351.758571  \n",
       "2              0.007603  108.206083   0.010884      65.620633     461.017500  \n",
       "3              0.001554   95.673231   0.020188      70.613365     540.024667  \n",
       "4              0.001449   77.556744   0.004449      93.270633     558.658462  \n",
       "...                 ...         ...        ...            ...            ...  \n",
       "1296670        0.000537  119.752136   0.004098      59.491651     574.250000  \n",
       "1296671        0.001786   75.104085   0.010840      92.068986     647.965000  \n",
       "1296672        0.003659   99.047734   0.003765      61.814473     662.728182  \n",
       "1296673        0.002587   84.627652   0.002743      92.095299     623.337500  \n",
       "1296674        0.000149   83.853655   0.003643      67.896686     478.523750  \n",
       "\n",
       "[1296675 rows x 12 columns]"
      ]
     },
     "execution_count": 89,
     "metadata": {},
     "output_type": "execute_result"
    }
   ],
   "source": [
    "train_x"
   ]
  },
  {
   "cell_type": "code",
   "execution_count": 90,
   "id": "8d234eb8",
   "metadata": {},
   "outputs": [],
   "source": [
    "from imblearn.over_sampling import RandomOverSampler\n",
    "\n",
    "ros = RandomOverSampler(random_state=42) \n",
    "\n",
    "train_x, train_y = ros.fit_resample(train_x, train_y)"
   ]
  },
  {
   "cell_type": "markdown",
   "id": "4a0de672",
   "metadata": {},
   "source": [
    "# Testing Classification models "
   ]
  },
  {
   "cell_type": "code",
   "execution_count": 91,
   "id": "f10cf587",
   "metadata": {},
   "outputs": [],
   "source": [
    "from sklearn.linear_model import LogisticRegression\n",
    "from sklearn.model_selection import train_test_split\n",
    "from sklearn.metrics import f1_score, accuracy_score, confusion_matrix, classification_report"
   ]
  },
  {
   "cell_type": "code",
   "execution_count": 92,
   "id": "bf5b6939",
   "metadata": {},
   "outputs": [],
   "source": [
    "x_train, x_val, y_train, y_val = train_test_split(train_x, train_y, random_state = 42)"
   ]
  },
  {
   "cell_type": "code",
   "execution_count": 93,
   "id": "fbe52c67",
   "metadata": {
    "scrolled": true
   },
   "outputs": [
    {
     "data": {
      "text/html": [
       "<div>\n",
       "<style scoped>\n",
       "    .dataframe tbody tr th:only-of-type {\n",
       "        vertical-align: middle;\n",
       "    }\n",
       "\n",
       "    .dataframe tbody tr th {\n",
       "        vertical-align: top;\n",
       "    }\n",
       "\n",
       "    .dataframe thead th {\n",
       "        text-align: right;\n",
       "    }\n",
       "</style>\n",
       "<table border=\"1\" class=\"dataframe\">\n",
       "  <thead>\n",
       "    <tr style=\"text-align: right;\">\n",
       "      <th></th>\n",
       "      <th>hour</th>\n",
       "      <th>state</th>\n",
       "      <th>merchant</th>\n",
       "      <th>age</th>\n",
       "      <th>day_of_week</th>\n",
       "      <th>job</th>\n",
       "      <th>category</th>\n",
       "      <th>amt_normalised</th>\n",
       "      <th>dist</th>\n",
       "      <th>Fraud_avg</th>\n",
       "      <th>Amt_Avg_Legit</th>\n",
       "      <th>Amt_Avg_Fraud</th>\n",
       "    </tr>\n",
       "  </thead>\n",
       "  <tbody>\n",
       "    <tr>\n",
       "      <th>1780783</th>\n",
       "      <td>23</td>\n",
       "      <td>0.607843</td>\n",
       "      <td>0.402597</td>\n",
       "      <td>51.0</td>\n",
       "      <td>5</td>\n",
       "      <td>139</td>\n",
       "      <td>1</td>\n",
       "      <td>0.012105</td>\n",
       "      <td>108.784231</td>\n",
       "      <td>0.013605</td>\n",
       "      <td>59.031945</td>\n",
       "      <td>464.676000</td>\n",
       "    </tr>\n",
       "    <tr>\n",
       "      <th>59304</th>\n",
       "      <td>19</td>\n",
       "      <td>0.725490</td>\n",
       "      <td>0.049062</td>\n",
       "      <td>18.0</td>\n",
       "      <td>6</td>\n",
       "      <td>31</td>\n",
       "      <td>1</td>\n",
       "      <td>0.002981</td>\n",
       "      <td>69.105096</td>\n",
       "      <td>0.017497</td>\n",
       "      <td>55.562288</td>\n",
       "      <td>655.350000</td>\n",
       "    </tr>\n",
       "    <tr>\n",
       "      <th>2133391</th>\n",
       "      <td>22</td>\n",
       "      <td>0.372549</td>\n",
       "      <td>0.427128</td>\n",
       "      <td>25.0</td>\n",
       "      <td>2</td>\n",
       "      <td>51</td>\n",
       "      <td>6</td>\n",
       "      <td>0.029483</td>\n",
       "      <td>90.687483</td>\n",
       "      <td>0.002743</td>\n",
       "      <td>93.250378</td>\n",
       "      <td>291.941250</td>\n",
       "    </tr>\n",
       "    <tr>\n",
       "      <th>2417226</th>\n",
       "      <td>23</td>\n",
       "      <td>0.254902</td>\n",
       "      <td>0.907648</td>\n",
       "      <td>40.0</td>\n",
       "      <td>6</td>\n",
       "      <td>228</td>\n",
       "      <td>7</td>\n",
       "      <td>0.032363</td>\n",
       "      <td>84.664521</td>\n",
       "      <td>0.005016</td>\n",
       "      <td>63.810353</td>\n",
       "      <td>506.398182</td>\n",
       "    </tr>\n",
       "    <tr>\n",
       "      <th>851986</th>\n",
       "      <td>20</td>\n",
       "      <td>0.235294</td>\n",
       "      <td>0.972583</td>\n",
       "      <td>52.0</td>\n",
       "      <td>5</td>\n",
       "      <td>14</td>\n",
       "      <td>8</td>\n",
       "      <td>0.000801</td>\n",
       "      <td>73.340382</td>\n",
       "      <td>0.003765</td>\n",
       "      <td>61.814473</td>\n",
       "      <td>662.728182</td>\n",
       "    </tr>\n",
       "    <tr>\n",
       "      <th>...</th>\n",
       "      <td>...</td>\n",
       "      <td>...</td>\n",
       "      <td>...</td>\n",
       "      <td>...</td>\n",
       "      <td>...</td>\n",
       "      <td>...</td>\n",
       "      <td>...</td>\n",
       "      <td>...</td>\n",
       "      <td>...</td>\n",
       "      <td>...</td>\n",
       "      <td>...</td>\n",
       "      <td>...</td>\n",
       "    </tr>\n",
       "    <tr>\n",
       "      <th>110268</th>\n",
       "      <td>2</td>\n",
       "      <td>0.352941</td>\n",
       "      <td>0.292929</td>\n",
       "      <td>54.0</td>\n",
       "      <td>6</td>\n",
       "      <td>295</td>\n",
       "      <td>3</td>\n",
       "      <td>0.002500</td>\n",
       "      <td>106.885759</td>\n",
       "      <td>0.004778</td>\n",
       "      <td>63.853855</td>\n",
       "      <td>399.380000</td>\n",
       "    </tr>\n",
       "    <tr>\n",
       "      <th>1692743</th>\n",
       "      <td>1</td>\n",
       "      <td>0.705882</td>\n",
       "      <td>0.326118</td>\n",
       "      <td>32.0</td>\n",
       "      <td>4</td>\n",
       "      <td>330</td>\n",
       "      <td>1</td>\n",
       "      <td>0.010151</td>\n",
       "      <td>107.882443</td>\n",
       "      <td>0.008169</td>\n",
       "      <td>53.738195</td>\n",
       "      <td>747.288333</td>\n",
       "    </tr>\n",
       "    <tr>\n",
       "      <th>2356330</th>\n",
       "      <td>23</td>\n",
       "      <td>0.647059</td>\n",
       "      <td>0.741703</td>\n",
       "      <td>21.0</td>\n",
       "      <td>4</td>\n",
       "      <td>216</td>\n",
       "      <td>6</td>\n",
       "      <td>0.033009</td>\n",
       "      <td>70.993045</td>\n",
       "      <td>0.007269</td>\n",
       "      <td>44.550966</td>\n",
       "      <td>639.461875</td>\n",
       "    </tr>\n",
       "    <tr>\n",
       "      <th>2229084</th>\n",
       "      <td>19</td>\n",
       "      <td>0.098039</td>\n",
       "      <td>0.704185</td>\n",
       "      <td>46.0</td>\n",
       "      <td>1</td>\n",
       "      <td>221</td>\n",
       "      <td>12</td>\n",
       "      <td>0.000793</td>\n",
       "      <td>45.414551</td>\n",
       "      <td>0.003015</td>\n",
       "      <td>54.287031</td>\n",
       "      <td>545.840000</td>\n",
       "    </tr>\n",
       "    <tr>\n",
       "      <th>2219110</th>\n",
       "      <td>22</td>\n",
       "      <td>0.882353</td>\n",
       "      <td>0.396825</td>\n",
       "      <td>79.0</td>\n",
       "      <td>6</td>\n",
       "      <td>399</td>\n",
       "      <td>0</td>\n",
       "      <td>0.032538</td>\n",
       "      <td>101.247240</td>\n",
       "      <td>0.008163</td>\n",
       "      <td>61.867750</td>\n",
       "      <td>776.057500</td>\n",
       "    </tr>\n",
       "  </tbody>\n",
       "</table>\n",
       "<p>1933753 rows × 12 columns</p>\n",
       "</div>"
      ],
      "text/plain": [
       "         hour     state  merchant   age  day_of_week  job  category  \\\n",
       "1780783    23  0.607843  0.402597  51.0            5  139         1   \n",
       "59304      19  0.725490  0.049062  18.0            6   31         1   \n",
       "2133391    22  0.372549  0.427128  25.0            2   51         6   \n",
       "2417226    23  0.254902  0.907648  40.0            6  228         7   \n",
       "851986     20  0.235294  0.972583  52.0            5   14         8   \n",
       "...       ...       ...       ...   ...          ...  ...       ...   \n",
       "110268      2  0.352941  0.292929  54.0            6  295         3   \n",
       "1692743     1  0.705882  0.326118  32.0            4  330         1   \n",
       "2356330    23  0.647059  0.741703  21.0            4  216         6   \n",
       "2229084    19  0.098039  0.704185  46.0            1  221        12   \n",
       "2219110    22  0.882353  0.396825  79.0            6  399         0   \n",
       "\n",
       "         amt_normalised        dist  Fraud_avg  Amt_Avg_Legit  Amt_Avg_Fraud  \n",
       "1780783        0.012105  108.784231   0.013605      59.031945     464.676000  \n",
       "59304          0.002981   69.105096   0.017497      55.562288     655.350000  \n",
       "2133391        0.029483   90.687483   0.002743      93.250378     291.941250  \n",
       "2417226        0.032363   84.664521   0.005016      63.810353     506.398182  \n",
       "851986         0.000801   73.340382   0.003765      61.814473     662.728182  \n",
       "...                 ...         ...        ...            ...            ...  \n",
       "110268         0.002500  106.885759   0.004778      63.853855     399.380000  \n",
       "1692743        0.010151  107.882443   0.008169      53.738195     747.288333  \n",
       "2356330        0.033009   70.993045   0.007269      44.550966     639.461875  \n",
       "2229084        0.000793   45.414551   0.003015      54.287031     545.840000  \n",
       "2219110        0.032538  101.247240   0.008163      61.867750     776.057500  \n",
       "\n",
       "[1933753 rows x 12 columns]"
      ]
     },
     "execution_count": 93,
     "metadata": {},
     "output_type": "execute_result"
    }
   ],
   "source": [
    "x_train"
   ]
  },
  {
   "cell_type": "code",
   "execution_count": 94,
   "id": "e5ca2069",
   "metadata": {},
   "outputs": [],
   "source": [
    "x_train.to_csv(\"Flask\\Data.csv\")"
   ]
  },
  {
   "cell_type": "code",
   "execution_count": 95,
   "id": "6f883d33",
   "metadata": {},
   "outputs": [],
   "source": [
    "import pickle"
   ]
  },
  {
   "cell_type": "code",
   "execution_count": 110,
   "id": "eaed992f",
   "metadata": {
    "scrolled": true
   },
   "outputs": [],
   "source": [
    "with open('Flask\\Dicts\\Cities.pkl', 'wb') as f:\n",
    "    pickle.dump(cities, f)\n",
    "\n",
    "with open('Flask\\Dicts\\States.pkl', 'wb') as f:\n",
    "    pickle.dump(states, f)\n",
    "    \n",
    "with open('Flask\\Dicts\\Merchants.pkl', 'wb') as f:\n",
    "    pickle.dump(merchants, f)\n",
    "\n",
    "with open('Flask\\Dicts\\Jobs.pkl', 'wb') as f:\n",
    "    pickle.dump(jobs, f)\n",
    "    \n",
    "with open('Flask\\Dicts\\Days.pkl', 'wb') as f:\n",
    "    pickle.dump(days, f)\n",
    "\n",
    "with open('Flask\\Dicts\\Category.pkl', 'wb') as f:\n",
    "    pickle.dump(Category, f)"
   ]
  },
  {
   "cell_type": "markdown",
   "id": "d19d7531",
   "metadata": {},
   "source": [
    "# Datasets\n",
    "#### Training Data -> x_train y_train\n",
    "#### Val Data -> x_val y_val\n",
    "#### Test Data -> test_x test_y"
   ]
  },
  {
   "cell_type": "markdown",
   "id": "c2d4f2c5",
   "metadata": {},
   "source": [
    "## Logistic Regression "
   ]
  },
  {
   "cell_type": "code",
   "execution_count": 97,
   "id": "c6b3941b",
   "metadata": {},
   "outputs": [
    {
     "name": "stderr",
     "output_type": "stream",
     "text": [
      "C:\\Users\\shounak lohokare\\anaconda3\\lib\\site-packages\\sklearn\\linear_model\\_logistic.py:763: ConvergenceWarning: lbfgs failed to converge (status=1):\n",
      "STOP: TOTAL NO. of ITERATIONS REACHED LIMIT.\n",
      "\n",
      "Increase the number of iterations (max_iter) or scale the data as shown in:\n",
      "    https://scikit-learn.org/stable/modules/preprocessing.html\n",
      "Please also refer to the documentation for alternative solver options:\n",
      "    https://scikit-learn.org/stable/modules/linear_model.html#logistic-regression\n",
      "  n_iter_i = _check_optimize_result(\n"
     ]
    },
    {
     "data": {
      "text/plain": [
       "LogisticRegression(C=0.1)"
      ]
     },
     "execution_count": 97,
     "metadata": {},
     "output_type": "execute_result"
    }
   ],
   "source": [
    "logreg = LogisticRegression(C = 0.1)\n",
    "logreg.fit(x_train,y_train)"
   ]
  },
  {
   "cell_type": "code",
   "execution_count": 114,
   "id": "6a5b37a9",
   "metadata": {},
   "outputs": [
    {
     "name": "stdout",
     "output_type": "stream",
     "text": [
      "Training F1 -> 0.7056536857578936\n",
      "Val F1 -> 0.7069006162017182\n",
      "Test F1 -> 0.01780068769909852\n"
     ]
    }
   ],
   "source": [
    "y_log_val = logreg.predict(x_val)\n",
    "y_log_tra = logreg.predict(x_train)\n",
    "y_log_test = logreg.predict(test_x)\n",
    "print(\"Training F1 -> {}\".format(f1_score(y_train,y_log_tra)))\n",
    "print(\"Val F1 -> {}\".format(f1_score(y_val,y_log_val)))\n",
    "print(\"Test F1 -> {}\".format(f1_score(test_y,y_log_test)))"
   ]
  },
  {
   "cell_type": "code",
   "execution_count": 99,
   "id": "492777cd",
   "metadata": {},
   "outputs": [
    {
     "name": "stdout",
     "output_type": "stream",
     "text": [
      "Training Acc -> 0.6523020261636311\n",
      "Val Acc -> 0.652782798234523\n",
      "Test Acc -> 0.6424110026830107\n"
     ]
    }
   ],
   "source": [
    "print(\"Training Acc -> {}\".format(logreg.score(x_train,y_train)))\n",
    "print(\"Val Acc -> {}\".format(logreg.score(x_val,y_val)))\n",
    "print(\"Test Acc -> {}\".format(logreg.score(test_x,test_y)))"
   ]
  },
  {
   "cell_type": "code",
   "execution_count": 100,
   "id": "5a311756",
   "metadata": {},
   "outputs": [
    {
     "name": "stdout",
     "output_type": "stream",
     "text": [
      "f1_score test -> 0.01369869812734826\n"
     ]
    }
   ],
   "source": [
    "y_log = logreg.predict(test_x)\n",
    "print(\"f1_score test -> {}\".format(f1_score(test_y,y_log))) "
   ]
  },
  {
   "cell_type": "markdown",
   "id": "44c8d0e3",
   "metadata": {},
   "source": [
    "## Random Forest"
   ]
  },
  {
   "cell_type": "code",
   "execution_count": 63,
   "id": "62c7f5aa",
   "metadata": {},
   "outputs": [],
   "source": [
    "from sklearn.ensemble import RandomForestClassifier"
   ]
  },
  {
   "cell_type": "code",
   "execution_count": 68,
   "id": "694a8c5d",
   "metadata": {},
   "outputs": [],
   "source": [
    "rfc = RandomForestClassifier(n_estimators = 100,\n",
    "                            max_depth = 8,\n",
    "                            max_features = \"sqrt\",\n",
    "                            bootstrap = True,\n",
    "                            criterion = \"entropy\")"
   ]
  },
  {
   "cell_type": "code",
   "execution_count": 69,
   "id": "b46756bc",
   "metadata": {},
   "outputs": [
    {
     "data": {
      "text/plain": [
       "RandomForestClassifier(criterion='entropy', max_depth=8, max_features='sqrt')"
      ]
     },
     "execution_count": 69,
     "metadata": {},
     "output_type": "execute_result"
    }
   ],
   "source": [
    "rfc.fit(x_train,y_train)"
   ]
  },
  {
   "cell_type": "code",
   "execution_count": 70,
   "id": "7a120d12",
   "metadata": {},
   "outputs": [
    {
     "name": "stdout",
     "output_type": "stream",
     "text": [
      "Training F1 -> 0.8909333250674188\n",
      "Val F1 -> 0.8909710017945562\n",
      "Test F1 -> 0.24648805213613323\n"
     ]
    }
   ],
   "source": [
    "y_rfc_val = rfc.predict(x_val)\n",
    "y_rfc_tra = rfc.predict(x_train)\n",
    "y_rfc_test = rfc.predict(test_x)\n",
    "print(\"Training F1 -> {}\".format(f1_score(y_train,y_rfc_tra)))\n",
    "print(\"Val F1 -> {}\".format(f1_score(y_val,y_rfc_val)))\n",
    "print(\"Test F1 -> {}\".format(f1_score(test_y,y_rfc_test)))"
   ]
  },
  {
   "cell_type": "code",
   "execution_count": 71,
   "id": "4b96c58b",
   "metadata": {},
   "outputs": [
    {
     "name": "stdout",
     "output_type": "stream",
     "text": [
      "Training Acc -> 0.8999236200279974\n",
      "Val Acc -> 0.8998068524709697\n",
      "Test Acc -> 0.9812747089806179\n"
     ]
    }
   ],
   "source": [
    "print(\"Training Acc -> {}\".format(accuracy_score(y_train,y_rfc_tra)))\n",
    "print(\"Val Acc -> {}\".format(accuracy_score(y_val,y_rfc_val)))\n",
    "print(\"Test Acc -> {}\".format(accuracy_score(test_y,y_rfc_test)))"
   ]
  },
  {
   "cell_type": "markdown",
   "id": "6d8a7946",
   "metadata": {},
   "source": [
    "## LightGBM "
   ]
  },
  {
   "cell_type": "code",
   "execution_count": 72,
   "id": "bc47b309",
   "metadata": {},
   "outputs": [],
   "source": [
    "from lightgbm import LGBMClassifier"
   ]
  },
  {
   "cell_type": "code",
   "execution_count": 97,
   "id": "df141fee",
   "metadata": {},
   "outputs": [],
   "source": [
    "lgbmc = LGBMClassifier(n_estimators = 100,\n",
    "                      max_depth = 32,\n",
    "                      learning_rate = 0.02,\n",
    "                      num_leaves = 20,\n",
    "                       #reg_lambda  = True,\n",
    "                       random_state = 42,\n",
    "                       subsample = 0.5\n",
    "                      )"
   ]
  },
  {
   "cell_type": "code",
   "execution_count": 98,
   "id": "32997da3",
   "metadata": {},
   "outputs": [
    {
     "data": {
      "text/plain": [
       "LGBMClassifier(learning_rate=0.02, max_depth=32, num_leaves=20, random_state=42,\n",
       "               subsample=0.5)"
      ]
     },
     "execution_count": 98,
     "metadata": {},
     "output_type": "execute_result"
    }
   ],
   "source": [
    "lgbmc.fit(x_train,y_train)"
   ]
  },
  {
   "cell_type": "code",
   "execution_count": 99,
   "id": "d52b1252",
   "metadata": {},
   "outputs": [
    {
     "name": "stdout",
     "output_type": "stream",
     "text": [
      "Training F1 -> 0.9610377568907266\n",
      "Val F1 -> 0.9610960543831532\n",
      "Test F1 -> 0.14535255272314138\n"
     ]
    }
   ],
   "source": [
    "y_lgbmc_val = lgbmc.predict(x_val,num_iteration = 100)\n",
    "y_lgbmc_tra = lgbmc.predict(x_train,num_iteration = 100)\n",
    "y_lgbmc_test = lgbmc.predict(test_x,num_iteration = 100)\n",
    "print(\"Training F1 -> {}\".format(f1_score(y_train,y_lgbmc_tra)))\n",
    "print(\"Val F1 -> {}\".format(f1_score(y_val,y_lgbmc_val)))\n",
    "print(\"Test F1 -> {}\".format(f1_score(test_y,y_lgbmc_test)))"
   ]
  },
  {
   "cell_type": "code",
   "execution_count": 100,
   "id": "fe6b3db3",
   "metadata": {
    "scrolled": true
   },
   "outputs": [
    {
     "name": "stdout",
     "output_type": "stream",
     "text": [
      "Training Acc -> 0.960884869991152\n",
      "Val Acc -> 0.9608724993600534\n",
      "Test Acc -> 0.9566831438190885\n"
     ]
    }
   ],
   "source": [
    "print(\"Training Acc -> {}\".format(accuracy_score(y_train,y_lgbmc_tra)))\n",
    "print(\"Val Acc -> {}\".format(accuracy_score(y_val,y_lgbmc_val)))\n",
    "print(\"Test Acc -> {}\".format(accuracy_score(test_y,y_lgbmc_test)))"
   ]
  },
  {
   "cell_type": "markdown",
   "id": "fa6409c5",
   "metadata": {},
   "source": [
    "## Xgboost Classifier"
   ]
  },
  {
   "cell_type": "code",
   "execution_count": 101,
   "id": "0a23329d",
   "metadata": {},
   "outputs": [],
   "source": [
    "from xgboost import XGBClassifier\n",
    "\n",
    "xgbc = XGBClassifier(\n",
    "                    max_depth = 4,\n",
    "                    min_child_wight = 6,\n",
    "                    learning_rate = 0.1,\n",
    "                    n_estimators = 100,\n",
    "                    gamma = 0,\n",
    "                    subsample = 0.4,\n",
    "                    nthread = 4,\n",
    "                     colsample_bytree=0.6,\n",
    "                     scale_pos_weight=1\n",
    "                    )"
   ]
  },
  {
   "cell_type": "code",
   "execution_count": 102,
   "id": "4cfb7487",
   "metadata": {},
   "outputs": [],
   "source": [
    "xgbc = XGBClassifier(max_depth = 10,\n",
    "                    n_estimators = 100)"
   ]
  },
  {
   "cell_type": "code",
   "execution_count": 103,
   "id": "063c7f3c",
   "metadata": {
    "scrolled": false
   },
   "outputs": [
    {
     "name": "stderr",
     "output_type": "stream",
     "text": [
      "C:\\Users\\shounak lohokare\\anaconda3\\lib\\site-packages\\xgboost\\sklearn.py:1146: UserWarning: The use of label encoder in XGBClassifier is deprecated and will be removed in a future release. To remove this warning, do the following: 1) Pass option use_label_encoder=False when constructing XGBClassifier object; and 2) Encode your labels (y) as integers starting with 0, i.e. 0, 1, 2, ..., [num_class - 1].\n",
      "  warnings.warn(label_encoder_deprecation_msg, UserWarning)\n"
     ]
    },
    {
     "name": "stdout",
     "output_type": "stream",
     "text": [
      "[16:44:59] WARNING: C:/Users/Administrator/workspace/xgboost-win64_release_1.4.0/src/learner.cc:1095: Starting in XGBoost 1.3.0, the default evaluation metric used with the objective 'binary:logistic' was changed from 'error' to 'logloss'. Explicitly set eval_metric if you'd like to restore the old behavior.\n",
      "[0]\tvalidation_0-logloss:0.45194\n",
      "[1]\tvalidation_0-logloss:0.31872\n",
      "[2]\tvalidation_0-logloss:0.23429\n",
      "[3]\tvalidation_0-logloss:0.17680\n",
      "[4]\tvalidation_0-logloss:0.13653\n",
      "[5]\tvalidation_0-logloss:0.10551\n",
      "[6]\tvalidation_0-logloss:0.08422\n",
      "[7]\tvalidation_0-logloss:0.06826\n",
      "[8]\tvalidation_0-logloss:0.05535\n",
      "[9]\tvalidation_0-logloss:0.04647\n",
      "[10]\tvalidation_0-logloss:0.03911\n",
      "[11]\tvalidation_0-logloss:0.03435\n",
      "[12]\tvalidation_0-logloss:0.02946\n",
      "[13]\tvalidation_0-logloss:0.02663\n",
      "[14]\tvalidation_0-logloss:0.02446\n",
      "[15]\tvalidation_0-logloss:0.02222\n",
      "[16]\tvalidation_0-logloss:0.02093\n",
      "[17]\tvalidation_0-logloss:0.01979\n",
      "[18]\tvalidation_0-logloss:0.01816\n",
      "[19]\tvalidation_0-logloss:0.01692\n",
      "[20]\tvalidation_0-logloss:0.01637\n",
      "[21]\tvalidation_0-logloss:0.01593\n",
      "[22]\tvalidation_0-logloss:0.01564\n",
      "[23]\tvalidation_0-logloss:0.01443\n",
      "[24]\tvalidation_0-logloss:0.01371\n",
      "[25]\tvalidation_0-logloss:0.01309\n",
      "[26]\tvalidation_0-logloss:0.01282\n",
      "[27]\tvalidation_0-logloss:0.01198\n",
      "[28]\tvalidation_0-logloss:0.01120\n",
      "[29]\tvalidation_0-logloss:0.01018\n",
      "[30]\tvalidation_0-logloss:0.00983\n",
      "[31]\tvalidation_0-logloss:0.00935\n",
      "[32]\tvalidation_0-logloss:0.00919\n",
      "[33]\tvalidation_0-logloss:0.00881\n",
      "[34]\tvalidation_0-logloss:0.00820\n",
      "[35]\tvalidation_0-logloss:0.00746\n",
      "[36]\tvalidation_0-logloss:0.00711\n",
      "[37]\tvalidation_0-logloss:0.00686\n",
      "[38]\tvalidation_0-logloss:0.00634\n",
      "[39]\tvalidation_0-logloss:0.00613\n",
      "[40]\tvalidation_0-logloss:0.00590\n",
      "[41]\tvalidation_0-logloss:0.00556\n",
      "[42]\tvalidation_0-logloss:0.00539\n",
      "[43]\tvalidation_0-logloss:0.00512\n",
      "[44]\tvalidation_0-logloss:0.00488\n",
      "[45]\tvalidation_0-logloss:0.00469\n",
      "[46]\tvalidation_0-logloss:0.00444\n",
      "[47]\tvalidation_0-logloss:0.00435\n",
      "[48]\tvalidation_0-logloss:0.00415\n",
      "[49]\tvalidation_0-logloss:0.00404\n",
      "[50]\tvalidation_0-logloss:0.00383\n",
      "[51]\tvalidation_0-logloss:0.00373\n",
      "[52]\tvalidation_0-logloss:0.00351\n",
      "[53]\tvalidation_0-logloss:0.00335\n",
      "[54]\tvalidation_0-logloss:0.00329\n",
      "[55]\tvalidation_0-logloss:0.00321\n",
      "[56]\tvalidation_0-logloss:0.00311\n",
      "[57]\tvalidation_0-logloss:0.00302\n",
      "[58]\tvalidation_0-logloss:0.00292\n",
      "[59]\tvalidation_0-logloss:0.00286\n",
      "[60]\tvalidation_0-logloss:0.00275\n",
      "[61]\tvalidation_0-logloss:0.00268\n",
      "[62]\tvalidation_0-logloss:0.00260\n",
      "[63]\tvalidation_0-logloss:0.00237\n",
      "[64]\tvalidation_0-logloss:0.00228\n",
      "[65]\tvalidation_0-logloss:0.00226\n",
      "[66]\tvalidation_0-logloss:0.00223\n",
      "[67]\tvalidation_0-logloss:0.00206\n",
      "[68]\tvalidation_0-logloss:0.00200\n",
      "[69]\tvalidation_0-logloss:0.00183\n",
      "[70]\tvalidation_0-logloss:0.00180\n",
      "[71]\tvalidation_0-logloss:0.00174\n",
      "[72]\tvalidation_0-logloss:0.00163\n",
      "[73]\tvalidation_0-logloss:0.00155\n",
      "[74]\tvalidation_0-logloss:0.00148\n",
      "[75]\tvalidation_0-logloss:0.00142\n",
      "[76]\tvalidation_0-logloss:0.00138\n",
      "[77]\tvalidation_0-logloss:0.00135\n",
      "[78]\tvalidation_0-logloss:0.00130\n",
      "[79]\tvalidation_0-logloss:0.00129\n",
      "[80]\tvalidation_0-logloss:0.00126\n",
      "[81]\tvalidation_0-logloss:0.00124\n",
      "[82]\tvalidation_0-logloss:0.00122\n",
      "[83]\tvalidation_0-logloss:0.00117\n",
      "[84]\tvalidation_0-logloss:0.00114\n",
      "[85]\tvalidation_0-logloss:0.00107\n",
      "[86]\tvalidation_0-logloss:0.00103\n",
      "[87]\tvalidation_0-logloss:0.00099\n",
      "[88]\tvalidation_0-logloss:0.00097\n",
      "[89]\tvalidation_0-logloss:0.00094\n",
      "[90]\tvalidation_0-logloss:0.00093\n",
      "[91]\tvalidation_0-logloss:0.00091\n",
      "[92]\tvalidation_0-logloss:0.00089\n",
      "[93]\tvalidation_0-logloss:0.00085\n",
      "[94]\tvalidation_0-logloss:0.00083\n",
      "[95]\tvalidation_0-logloss:0.00077\n",
      "[96]\tvalidation_0-logloss:0.00076\n",
      "[97]\tvalidation_0-logloss:0.00075\n",
      "[98]\tvalidation_0-logloss:0.00071\n",
      "[99]\tvalidation_0-logloss:0.00069\n"
     ]
    },
    {
     "data": {
      "text/plain": [
       "XGBClassifier(base_score=0.5, booster='gbtree', colsample_bylevel=1,\n",
       "              colsample_bynode=1, colsample_bytree=1, gamma=0, gpu_id=-1,\n",
       "              importance_type='gain', interaction_constraints='',\n",
       "              learning_rate=0.300000012, max_delta_step=0, max_depth=10,\n",
       "              min_child_weight=1, missing=nan, monotone_constraints='()',\n",
       "              n_estimators=100, n_jobs=8, num_parallel_tree=1, random_state=0,\n",
       "              reg_alpha=0, reg_lambda=1, scale_pos_weight=1, subsample=1,\n",
       "              tree_method='exact', validate_parameters=1, verbosity=None)"
      ]
     },
     "execution_count": 103,
     "metadata": {},
     "output_type": "execute_result"
    }
   ],
   "source": [
    "eval_set = [(x_val, y_val)]\n",
    "xgbc.fit(train_x,train_y,early_stopping_rounds = 10,eval_set = eval_set)"
   ]
  },
  {
   "cell_type": "code",
   "execution_count": 104,
   "id": "2a6d4868",
   "metadata": {},
   "outputs": [
    {
     "name": "stdout",
     "output_type": "stream",
     "text": [
      "Training F1 -> 0.9999270633695172\n",
      "Val F1 -> 0.9999364671062316\n",
      "Test F1 -> 0.7965169569202566\n"
     ]
    }
   ],
   "source": [
    "y_xgbc_val = xgbc.predict(x_val)\n",
    "y_xgbc_tra = xgbc.predict(x_train)\n",
    "y_xgbc_test = xgbc.predict(test_x)\n",
    "print(\"Training F1 -> {}\".format(f1_score(y_train,y_xgbc_tra)))\n",
    "print(\"Val F1 -> {}\".format(f1_score(y_val,y_xgbc_val)))\n",
    "print(\"Test F1 -> {}\".format(f1_score(test_y,y_xgbc_test)))"
   ]
  },
  {
   "cell_type": "code",
   "execution_count": 105,
   "id": "07ec516f",
   "metadata": {},
   "outputs": [
    {
     "name": "stdout",
     "output_type": "stream",
     "text": [
      "              precision    recall  f1-score   support\n",
      "\n",
      "           0       1.00      1.00      1.00    553574\n",
      "           1       0.78      0.81      0.80      2145\n",
      "\n",
      "    accuracy                           1.00    555719\n",
      "   macro avg       0.89      0.90      0.90    555719\n",
      "weighted avg       1.00      1.00      1.00    555719\n",
      "\n"
     ]
    }
   ],
   "source": [
    "print(classification_report(test_y, y_xgbc_test))"
   ]
  },
  {
   "cell_type": "code",
   "execution_count": 106,
   "id": "e76bce5a",
   "metadata": {},
   "outputs": [
    {
     "name": "stdout",
     "output_type": "stream",
     "text": [
      "Training Acc -> 0.9999270847931457\n",
      "Val Acc -> 0.9999363931832109\n",
      "Test Acc -> 0.9984020701109734\n"
     ]
    }
   ],
   "source": [
    "print(\"Training Acc -> {}\".format(accuracy_score(y_train,y_xgbc_tra)))\n",
    "print(\"Val Acc -> {}\".format(accuracy_score(y_val,y_xgbc_val)))\n",
    "print(\"Test Acc -> {}\".format(accuracy_score(test_y,y_xgbc_test)))"
   ]
  },
  {
   "cell_type": "markdown",
   "id": "707e5d63",
   "metadata": {},
   "source": [
    "# Saving Best Model"
   ]
  },
  {
   "cell_type": "code",
   "execution_count": 124,
   "id": "4c0864db",
   "metadata": {},
   "outputs": [],
   "source": [
    "import pickle\n",
    "\n",
    "pickl = {'model': xgbc}\n",
    "pickle.dump( pickl, open( 'Flask\\model_XGBC' + \".p\", \"wb\" ) )"
   ]
  },
  {
   "cell_type": "code",
   "execution_count": 119,
   "id": "46c70b5a",
   "metadata": {},
   "outputs": [
    {
     "data": {
      "text/plain": [
       "XGBClassifier(base_score=0.5, booster='gbtree', colsample_bylevel=1,\n",
       "              colsample_bynode=1, colsample_bytree=1, gamma=0, gpu_id=-1,\n",
       "              importance_type='gain', interaction_constraints='',\n",
       "              learning_rate=0.300000012, max_delta_step=0, max_depth=10,\n",
       "              min_child_weight=1, missing=nan, monotone_constraints='()',\n",
       "              n_estimators=100, n_jobs=8, num_parallel_tree=1, random_state=0,\n",
       "              reg_alpha=0, reg_lambda=1, scale_pos_weight=1, subsample=1,\n",
       "              tree_method='exact', validate_parameters=1, verbosity=None)"
      ]
     },
     "execution_count": 119,
     "metadata": {},
     "output_type": "execute_result"
    }
   ],
   "source": [
    "import pickle\n",
    "file_name = \"model_XGBC.p\"\n",
    "with open(file_name, \"rb\") as pickled:\n",
    "    data = pickle.load(pickled)\n",
    "    model = data['model']\n",
    "model"
   ]
  },
  {
   "cell_type": "code",
   "execution_count": 120,
   "id": "03f66342",
   "metadata": {},
   "outputs": [
    {
     "data": {
      "text/plain": [
       "array([1], dtype=int64)"
      ]
     },
     "execution_count": 120,
     "metadata": {},
     "output_type": "execute_result"
    }
   ],
   "source": [
    "xgbc.predict(np.array(x_train[0:1]))"
   ]
  },
  {
   "cell_type": "code",
   "execution_count": 121,
   "id": "b74bd5f5",
   "metadata": {},
   "outputs": [
    {
     "data": {
      "text/plain": [
       "array([[2.30000000e+01, 6.07843137e-01, 4.02597403e-01, 5.10000000e+01,\n",
       "        5.00000000e+00, 1.39000000e+02, 1.00000000e+00, 1.21054686e-02,\n",
       "        1.08784231e+02, 1.36054422e-02, 5.90319448e+01, 4.64676000e+02]])"
      ]
     },
     "execution_count": 121,
     "metadata": {},
     "output_type": "execute_result"
    }
   ],
   "source": [
    "np.array(x_train[0:1])"
   ]
  },
  {
   "cell_type": "code",
   "execution_count": 122,
   "id": "96856374",
   "metadata": {},
   "outputs": [
    {
     "data": {
      "text/plain": [
       "(1, 12)"
      ]
     },
     "execution_count": 122,
     "metadata": {},
     "output_type": "execute_result"
    }
   ],
   "source": [
    "np.shape(np.array(x_train[0:1]))"
   ]
  },
  {
   "cell_type": "code",
   "execution_count": null,
   "id": "f7385010",
   "metadata": {},
   "outputs": [],
   "source": []
  }
 ],
 "metadata": {
  "kernelspec": {
   "display_name": "Python 3",
   "language": "python",
   "name": "python3"
  },
  "language_info": {
   "codemirror_mode": {
    "name": "ipython",
    "version": 3
   },
   "file_extension": ".py",
   "mimetype": "text/x-python",
   "name": "python",
   "nbconvert_exporter": "python",
   "pygments_lexer": "ipython3",
   "version": "3.8.8"
  }
 },
 "nbformat": 4,
 "nbformat_minor": 5
}
